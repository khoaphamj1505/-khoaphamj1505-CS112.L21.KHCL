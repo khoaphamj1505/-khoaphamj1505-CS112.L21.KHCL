{
  "nbformat": 4,
  "nbformat_minor": 0,
  "metadata": {
    "colab": {
      "name": "H_Index.ipynb",
      "provenance": [],
      "collapsed_sections": [],
      "authorship_tag": "ABX9TyO9GPw/2qJLBfsWCjsC0cJH",
      "include_colab_link": true
    },
    "kernelspec": {
      "name": "python3",
      "display_name": "Python 3"
    },
    "language_info": {
      "name": "python"
    }
  },
  "cells": [
    {
      "cell_type": "markdown",
      "metadata": {
        "id": "view-in-github",
        "colab_type": "text"
      },
      "source": [
        "<a href=\"https://colab.research.google.com/github/khoaphamj1505/CS112.L21.KHCL/blob/main/H_Index.ipynb\" target=\"_parent\"><img src=\"https://colab.research.google.com/assets/colab-badge.svg\" alt=\"Open In Colab\"/></a>"
      ]
    },
    {
      "cell_type": "markdown",
      "metadata": {
        "id": "60MUcWyjCpTj"
      },
      "source": [
        "# Tên đề Bài : H_Index \n",
        "- Link: https://khmt.uit.edu.vn/wecode/cs112.2021/assignment/3/4"
      ]
    },
    {
      "cell_type": "markdown",
      "metadata": {
        "id": "-rwPFWjpDF2o"
      },
      "source": [
        "- Abstaction: \n",
        "    + Cho một mảng A có n phần tử \n",
        "    + Tìm số k lớn nhất (k <= n) sao cho tồn tại k phần tử  trong mảng đều lớn hơn hoặc bằng k.\n",
        "\n",
        "- Pattern Recognition:\n",
        "    + Để chọn k phần tử thỏa mãn yêu cầu bài toán thì k phần tử lớn nhất mảng A sẽ là lựa chọn tối ưu nhất.\n",
        "    + Nếu phần tử nhỏ nhất trong k phần tử lớn nhất của mảng nhỏ hơn k thì không thể tồn tại tập k phần tử thỏa mãn yêu cầu bài toán.\n",
        "\n",
        "    => Như vậy lời giải của bài toán sẽ là tìm số k **lớn nhất** sao cho phần tử nhỏ nhất trong k phần tử lớn nhất của mảng lớn hơn hoặc bằng k\n",
        "- Algorithm Designed:\n",
        "    + Sắp xếp mảng A tăng dần \n",
        "    + Khởi tạo biến L = 0 lưu số phần tử \n",
        "    + Duyệt từ cuối mảng về đầu mảng, nếu phần tử hiện tại đang xét lớn hơn L + 1 thì tăng L lên 1 đơn vị và tiếp tục duyệt. Ngược lại thì ngừng vòng lặp."
      ]
    },
    {
      "cell_type": "code",
      "metadata": {
        "id": "azMCQy6MBbsf"
      },
      "source": [
        "def read(str='i'):  # Doc Nhieu so tren 1 hang roi ep kieu\n",
        "    if(str == \"float\"):  # Neu tham so truyen vao == 'float' thi se doc cac so va ep kieu float\n",
        "        return map(float, input().split())\n",
        "    return map(int, input().split())  # Neu khong ep kieu int\n",
        "\n",
        "\n",
        "def ReadArr():\n",
        "    return [int(x) for x in input().split()]\n",
        "\n",
        "\n",
        "def main():\n",
        "    n = int(input())# nhập số lượng phần tử của mảng \n",
        "    arr = ReadArr() # Nhập các phần tử của mảng \n",
        "    arr.sort() # Sắp xếp mảng tăng dần\n",
        "\n",
        "    L =  0 # Biến L lưu số lượng phần tử lớn hơn hoặc bằng  L+1\n",
        "    while n >= 1: # Duyệt từ cuối về đầu mảng.\n",
        "        if arr[n-1] >= L+1: # Nếu phần tử đang xét lớn hơn hoặc bằng L+1 \n",
        "            L += 1 # tăng L lên 1 \n",
        "            n -= 1 # tiếp tục duyệt.\n",
        "        else:\n",
        "            break #Nếu phần tử đang xét bé hơn L+1 thì ngừng vòng lặp.\n",
        "\n",
        "    print(L)\n",
        "\n",
        "\n",
        "if __name__ == '__main__':\n",
        "    main()"
      ],
      "execution_count": null,
      "outputs": []
    }
  ]
}