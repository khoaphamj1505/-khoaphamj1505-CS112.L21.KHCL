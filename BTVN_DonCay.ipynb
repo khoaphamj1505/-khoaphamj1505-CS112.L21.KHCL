{
  "nbformat": 4,
  "nbformat_minor": 0,
  "metadata": {
    "colab": {
      "name": "BTVN_DonCay.ipynb",
      "provenance": [],
      "authorship_tag": "ABX9TyO2XUt+uoYVeTJeZRsS9FEr",
      "include_colab_link": true
    },
    "kernelspec": {
      "name": "python3",
      "display_name": "Python 3"
    },
    "language_info": {
      "name": "python"
    }
  },
  "cells": [
    {
      "cell_type": "markdown",
      "metadata": {
        "id": "view-in-github",
        "colab_type": "text"
      },
      "source": [
        "<a href=\"https://colab.research.google.com/github/khoaphamj1505/CS112.L21.KHCL/blob/main/BTVN_DonCay.ipynb\" target=\"_parent\"><img src=\"https://colab.research.google.com/assets/colab-badge.svg\" alt=\"Open In Colab\"/></a>"
      ]
    },
    {
      "cell_type": "markdown",
      "metadata": {
        "id": "dc9bh6FtFYoe"
      },
      "source": [
        ""
      ]
    },
    {
      "cell_type": "code",
      "metadata": {
        "id": "TGEfLM_XFSIX"
      },
      "source": [
        "from collections import deque\n",
        "\n",
        "a = list()\n",
        "L = list()\n",
        "R = list()\n",
        "dp = list()\n",
        "trace = list()\n",
        "\n",
        "\n",
        "def main():\n",
        "\tn = int(input())\n",
        "\ta = [int(x) for x in input().split()]\n",
        "\ta = [0] + a\n",
        "\tL = [i for i in range(n+1)]\n",
        "\tR = [i for i in range(n+1)]\n",
        "\tdp = [i for i in range(n+1)]\n",
        "\ttrace = [-i for i in range(n+1)]\n",
        "\tS = deque()\n",
        "\n",
        "\tfor i in range(1, n+1):\n",
        "\t\tL[i] = i\n",
        "\t\twhile len(S) and S[-1] > i - a[i]:\n",
        "\t\t\tL[i] = min(L[i], L[S[-1]])\n",
        "\t\t\tS.pop()\n",
        "\t\tS.append(i)\n",
        "\n",
        "\tS.clear()\n",
        "\n",
        "\tfor i in range(n, 0, -1):\n",
        "\t\t# print(i)\n",
        "\t\tR[i] = i\n",
        "\t\twhile len(S) and S[-1] < i + a[i]:\n",
        "\t\t\tR[i] = max(R[i], R[S[-1]])\n",
        "\t\t\tS.pop()\n",
        "\t\tS.append(i)\n",
        "\t# print(L, R)\n",
        "\tS.clear()\n",
        "\n",
        "\tfor i in range(1, n+1):\n",
        "\t\tif dp[i] > dp[L[i] - 1] + 1:\n",
        "\t\t\tdp[i] = dp[L[i] - 1] + 1\n",
        "\t\t\ttrace[i] = -L[i]\n",
        "\n",
        "\t\twhile len(S) and R[S[-1]] < i:\n",
        "\t\t\tS.pop()\n",
        "\n",
        "\t\tif len(S) and dp[i] > dp[S[-1] - 1] + 1:\n",
        "\t\t\tdp[i] = dp[S[-1] - 1] + 1\n",
        "\t\t\ttrace[i] = S[-1]\n",
        "\n",
        "\t\tif len(S) == 0 or dp[S[-1] -1] > dp[i-1]:\n",
        "\t\t\tS.append(i)\n",
        "\n",
        "\tprint(dp[n])\n",
        "\ti = n\n",
        "\twhile i :\n",
        "\t\tif trace[i] < 0:\n",
        "\t\t\tprint(-i, end=' ')\n",
        "\t\telse:\n",
        "\t\t\tprint(trace[i], end=' ')\n",
        "\t\ti = abs(trace[i]) - 1\n",
        "\n",
        "\tprint()\n",
        "\n",
        "if __name__ == '__main__':\n",
        "\tmain()\n"
      ],
      "execution_count": null,
      "outputs": []
    }
  ]
}