{
  "nbformat": 4,
  "nbformat_minor": 0,
  "metadata": {
    "colab": {
      "name": "Tram_Thu_Phi.ipynb",
      "provenance": [],
      "collapsed_sections": [],
      "authorship_tag": "ABX9TyOqXu9EThLNch0v+RCF0Cek",
      "include_colab_link": true
    },
    "kernelspec": {
      "name": "python3",
      "display_name": "Python 3"
    },
    "language_info": {
      "name": "python"
    }
  },
  "cells": [
    {
      "cell_type": "markdown",
      "metadata": {
        "id": "view-in-github",
        "colab_type": "text"
      },
      "source": [
        "<a href=\"https://colab.research.google.com/github/khoaphamj1505/CS112.L21.KHCL/blob/main/Tram_Thu_Phi.ipynb\" target=\"_parent\"><img src=\"https://colab.research.google.com/assets/colab-badge.svg\" alt=\"Open In Colab\"/></a>"
      ]
    },
    {
      "cell_type": "markdown",
      "metadata": {
        "id": "SLHEAtt5QiFW"
      },
      "source": [
        "- **Tên đề Bài** : Trạm Thu Phí.\n",
        "- Link : https://khmt.uit.edu.vn/wecode/cs112.2021/assignment/2/1\n",
        "\n"
      ]
    },
    {
      "cell_type": "markdown",
      "metadata": {
        "id": "vxAClKZ1O_1j"
      },
      "source": [
        "- Abstaction : Cho 1 mảng A gồm n phần tử, tìm 1 cặp số nguyên dương p, q (p<=q) sao cho tổng các phần tử từ A[p] đến A[q] là lớn nhất, nếu có nhiều kết quả thì chọn kết quả có p nhỏ nhất.\n",
        "    + Input : \n",
        "\n",
        "        - Dòng thứ 1: n (1 <= n <= 10^6) - Số lượng phần tử trong mảng A.\n",
        "        - Dòng thứ 2: n số nguyên có giá trị tuyệt đối không quá 10^9.\n",
        "\n",
        "        - **Lưu ý : Mảng ở đây bắt đầu từ 1**\n",
        "    + Output :\n",
        "\n",
        "        3 số p, q, S cách nhau 1 khoảng trắng.\n",
        "\n",
        "        Trong đó:\n",
        "        + p, q là cặp chỉ số cần tìm (p<=q).\n",
        "\n",
        "        + S là tổng các phần tử từ p đến q.\n",
        "\n",
        "-  Pattern Recognition :\n",
        "    - Để tính nhanh tổng của 1 đoạn con liên tiếp ta dùng phương pháp mảng cộng dồn.(Nếu Gọi F[p] là tổng các phần tử từ A[1] đến A[p] thì tổng của các phần tử từ A[p] đến A[q] là F[q] - F[p-1]).\n",
        "\n",
        "    - Để tổng F[p] - F[q-1] là lớn nhất thì ta chỉ cần tìm F[p-1] nhỏ nhất  (p-1 < q) .\n",
        "    - Vì thế ta sẽ dùng 1 biến min_val để lưu và cập nhật giá trị F[p-1] nhỏ nhất trước khi ta duyệt tới vị trí F[q].\n",
        "\n",
        "- Algorithm Designed : \n",
        "\n",
        "    - Nhập n và mảng A.\n",
        "    - Tạo mảng cộng dồn F gồm n+1 phần tử \n",
        "    - Tính mảng cộng dồn F theo công thức \n",
        "\n",
        "            F[0] = 0\n",
        "            F[i+1] = F[i] + A[i], 0 <= i < n\n",
        "    - Khởi Tạo các biến \n",
        "        - min_val=0 : giá trị nhỏ nhất trong mảng F trước khi duyệt đến một vị trí nào đó trong mảng .\n",
        "        - p_ans = 1 : vị trí bắt đầu của dãy con liên tiếp có tổng lớn nhất.\n",
        "        - q =1 : vị trí kết thúc của dãy con liên tiếp có tổng lớn nhất.\n",
        "        - p = 1: vị trí của phần tử nhỏ nhất trong mảng trước khi duyệt tới một vị trí nào đó trong mảng.\n",
        "        - ans = F[1] : tổng của đoạn con liên tiếp lớn nhất.\n",
        "\n",
        "    - Duyệt i từ 1 đến n.\n",
        "        + Nếu F[i-1] > min_val:\n",
        "            + cập nhật min_val = F[i-1].\n",
        "            + cập nhật p = i.\n",
        "        + Nếu F[i] - min_val > ans: \n",
        "            + cập nhật ans = F[i] - min_val.\n",
        "            + cập p_ans = p, q = i\n",
        "    - In ra màn hình p_ans, p và ans theo đúng thứ tự."
      ]
    },
    {
      "cell_type": "code",
      "metadata": {
        "id": "HCTLswplO7tn"
      },
      "source": [
        "#code : Lê Quang Huy.\n",
        "def read(str='i'):  # Doc Nhieu so tren 1 hang roi ep kieu\n",
        "    if(str == \"float\"):  # Neu tham so truyen vao == 'float' thi se doc cac so va ep kieu float\n",
        "        return map(float, input().split())\n",
        "    return map(int, input().split())  # Neu khong ep kieu int\n",
        "\n",
        "\n",
        "def ReadArr():\n",
        "    return [int(x) for x in input().split()]\n",
        "\n",
        "\n",
        "def Array(n, val=0):\n",
        "    return [val] * n\n",
        "\n",
        "\n",
        "if __name__ == '__main__':\n",
        "    n = int(input()) #Nhap n\n",
        "    A = ReadArr()   # Nhap mang A\n",
        "\n",
        "    F = Array(n+1, 0) # Tao mang cong don F va khoi tao cac gia tri bang 0\n",
        "\n",
        "    for i in range(n): # Tinh mang cong don\n",
        "        F[i+1] = F[i] + A[i] \n",
        "\n",
        "    ans = F[1]\n",
        "    min_val = 0\n",
        "    p_ans = 1\n",
        "    p = 1\n",
        "    q = 1\n",
        "\n",
        "    for i in range(1, n+1): # Duyet tu 1 den n\n",
        "        if min_val > F[i-1]: #Cap nhat min_val neu gia tri cua F[i-1] tot hon \n",
        "            min_val = F[i-1]\n",
        "            p = i\n",
        "\n",
        "        if F[i] - min_val > ans:#Cap nhat ans neu tong tu p den q tot hon ans\n",
        "            q = i     # luu lai gia tri q  \n",
        "            p_ans = p # luu lai gia tri p_ans \n",
        "            ans = F[i] - min_val\n",
        "\n",
        "    print(p_ans, q, ans)"
      ],
      "execution_count": null,
      "outputs": []
    }
  ]
}