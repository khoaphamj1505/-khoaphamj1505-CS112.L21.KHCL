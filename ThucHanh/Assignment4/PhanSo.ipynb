{
  "nbformat": 4,
  "nbformat_minor": 0,
  "metadata": {
    "colab": {
      "name": "PhanSo.ipynb",
      "provenance": [],
      "authorship_tag": "ABX9TyNxHgHJf1yzDu9UZOSTcVjU",
      "include_colab_link": true
    },
    "kernelspec": {
      "name": "python3",
      "display_name": "Python 3"
    },
    "language_info": {
      "name": "python"
    }
  },
  "cells": [
    {
      "cell_type": "markdown",
      "metadata": {
        "id": "view-in-github",
        "colab_type": "text"
      },
      "source": [
        "<a href=\"https://colab.research.google.com/github/khoaphamj1505/CS112.L21.KHCL/blob/main/ThucHanh/Assignment4/PhanSo.ipynb\" target=\"_parent\"><img src=\"https://colab.research.google.com/assets/colab-badge.svg\" alt=\"Open In Colab\"/></a>"
      ]
    },
    {
      "cell_type": "markdown",
      "metadata": {
        "id": "aKGLi0bDWT4h"
      },
      "source": [
        "# Đề bài: Phân số\n",
        "- Link: https://khmt.uit.edu.vn/wecode/cs112.2021/assignment/6/13\n",
        "\n",
        "- Abstraction: Cho 2 phân số tối giản a/b, c/d. Sau mỗi bước tăng a và b lên 1 đơn vị rồi tối giản phân số. Tìm số bước biến đổi phân số a/b thành c/d\n",
        "    - INPUT: gồm 4 dòng, mỗi dòng là số nguyên lần lượt là a, b, c, d\n",
        "    - OUTPUT: gồm 1 số nguyên là số bước cần biến đổi\n",
        "- Pattern Recognition: \n",
        "    - Biến đổi đến khi phân số a/b lớn hơn hoặc bằng phân số c/d thì dừng. Nếu lớn hơn thì in 0 còn bằng in ra số bước biến đổi\n",
        "- Algorithms Design:\n",
        "    - Kiểm tra nếu phân số a/b lớn hơn c/d thì in 0. Ngược lại cộng thêm 1 vào a và b rồi tối giản phân số.\n",
        "    - So sánh phân số rồi tiếp tục cho đến khi phân số a/b lớn hơn hoặc bằng phân số c/d thì dừng lại.\n",
        "    - Kiểm tra lần cuối nếu 2 phân số không bằng thì in 0, ngược lại in ra số lần cộng thêm 1."
      ]
    },
    {
      "cell_type": "code",
      "metadata": {
        "id": "a7Z1EKoUWPkq"
      },
      "source": [
        "from math import gcd\n",
        "\n",
        "if __name__ == '__main__':\n",
        "\ta = int(input())\n",
        "\tb = int(input())\n",
        "\tc = int(input())\n",
        "\td = int(input())\n",
        "\tcnt = 0\n",
        "\n",
        "\tif a * d > b * c:\n",
        "\t\tprint(0)\n",
        "\telse:\n",
        "\t\twhile a * d < b * c:\t\n",
        "\t\t\tcnt += 1\n",
        "\t\t\ta = a + 1\n",
        "\t\t\tb = b + 1\n",
        "\n",
        "\t\t\t_gcd = gcd(a, b)\n",
        "\t\t\ta //= _gcd\n",
        "\t\t\tb //= _gcd\n",
        "\n",
        "\t\tif a * d != b * c:\n",
        "\t\t\tprint(0)\n",
        "\t\telse:\n",
        "\t\t\tprint(cnt)"
      ],
      "execution_count": null,
      "outputs": []
    }
  ]
}