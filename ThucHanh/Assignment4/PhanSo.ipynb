{
  "nbformat": 4,
  "nbformat_minor": 0,
  "metadata": {
    "colab": {
      "name": "PhanSo.ipynb",
      "provenance": [],
      "authorship_tag": "ABX9TyMV33gbEnEe87UhzlSPKleU",
      "include_colab_link": true
    },
    "kernelspec": {
      "name": "python3",
      "display_name": "Python 3"
    },
    "language_info": {
      "name": "python"
    }
  },
  "cells": [
    {
      "cell_type": "markdown",
      "metadata": {
        "id": "view-in-github",
        "colab_type": "text"
      },
      "source": [
        "<a href=\"https://colab.research.google.com/github/khoaphamj1505/CS112.L21.KHCL/blob/main/ThucHanh/Assignment4/PhanSo.ipynb\" target=\"_parent\"><img src=\"https://colab.research.google.com/assets/colab-badge.svg\" alt=\"Open In Colab\"/></a>"
      ]
    },
    {
      "cell_type": "markdown",
      "metadata": {
        "id": "aKGLi0bDWT4h"
      },
      "source": [
        "# Phân số\n",
        "- Link: https://khmt.uit.edu.vn/wecode/cs112.2021/assignment/6/13\n",
        "\n",
        "- Abstraction: \n",
        "    * Cho 2 phân số tối giản\n",
        "$\\frac{a}{b}$ và \n",
        "$\\frac{c}{d}$\n",
        "$(\\frac{a}{b} \\neq \\frac{c}{d})$ . Một thao tác biến đổi sẽ tăng tử số và mẫu số  của phân số \n",
        "$\\frac{a}{b}$ lên một đơn vị sau đó rút gọn phân số đó.\n",
        "\n",
        "    * Hỏi sau ít nhất bao nhiêu thao tác thì \n",
        "$\\frac{a}{b} = \\frac{c}{d}$\n",
        "\n",
        "- Pattern Recognition:\n",
        "    * Thao tác tăng tử và mẫu số của một phân số lên 1 đơn vị sẽ làm tăng giá trị của phân số ban đầu \n",
        "    * Theo nhận xét phía trên nếu\n",
        "$\\frac{a}{b} > \\frac{c}{d}$ thì không thể biến đổi để \n",
        "$(\\frac{a}{b} = \\frac{c}{d})$\n",
        "\n",
        "        => Vì vậy lời giải cho bài toán này là liên tục thực hiện thao tác cho đến khi \n",
        "$(\\frac{a'}{b'} >= \\frac{c}{d})$\n",
        "\n",
        "    * Vì giá trị của \n",
        "$a, b, c, d$ đều nằm trong khoảng \n",
        "$10^5$ nên ta chỉ cần lặp tuyến là có thể giải quyết bài toán.\n",
        "- Algorithm Design:\n",
        "    * Nhập 4 số a, b, c, d\n",
        "    * Nếu \n",
        "$ a * d > b * c$ thì in 0 ra màn hình và kết thúc chương trình\n",
        "    * Ngược lại, thực hiện vòng lặp sau:\n",
        "``` python\n",
        "    # Tạo 1 biến đếm số thao tác được thực thi\n",
        "    cnt = 0\n",
        "\n",
        "     while a * d < b * c:\n",
        "        # Tăng giá trị của a và b lên 1 đơn vị\n",
        "            a += 1\n",
        "            b += 1\n",
        "\n",
        "        # Tính ước chung lớn nhất của a và b\n",
        "            s = gcd(a, b)\n",
        "\n",
        "        # chia a và b cho ước chung lớn nhất để rút gọn phân số a/b\n",
        "            a //= s\n",
        "            b //= s\n",
        "```\n",
        "\n",
        "    - Vòng lặp kết thúc khi \n",
        "$\\frac{a}{b} >= \\frac{c}{d}$. Sau khi vòng lặp kết thúc, kiểm tra xem hai phân số có bằng nhau hay không. \n",
        "        * Nếu có thì in ra giá trị biến cnt lưu số thao tác được thực thi\n",
        "        * Nếu không thì in ra giá trị 0\n",
        "\n"
      ]
    },
    {
      "cell_type": "code",
      "metadata": {
        "id": "a7Z1EKoUWPkq"
      },
      "source": [
        "from math import gcd\n",
        "\n",
        "if __name__ == '__main__':\n",
        "\ta = int(input())\n",
        "\tb = int(input())\n",
        "\tc = int(input())\n",
        "\td = int(input())\n",
        "\tcnt = 0\n",
        "\n",
        "\tif a * d > b * c:\n",
        "\t\tprint(0)\n",
        "\telse:\n",
        "\t\twhile a * d < b * c:\t\n",
        "\t\t\tcnt += 1\n",
        "\t\t\ta = a + 1\n",
        "\t\t\tb = b + 1\n",
        "\n",
        "\t\t\t_gcd = gcd(a, b)\n",
        "\t\t\ta //= _gcd\n",
        "\t\t\tb //= _gcd\n",
        "\n",
        "\t\tif a * d != b * c:\n",
        "\t\t\tprint(0)\n",
        "\t\telse:\n",
        "\t\t\tprint(cnt)"
      ],
      "execution_count": null,
      "outputs": []
    }
  ]
}