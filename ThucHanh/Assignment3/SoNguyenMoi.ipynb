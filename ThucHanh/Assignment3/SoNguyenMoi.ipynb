{
  "nbformat": 4,
  "nbformat_minor": 0,
  "metadata": {
    "colab": {
      "name": "SoNguyenMoi.ipynb",
      "provenance": [],
      "collapsed_sections": [],
      "authorship_tag": "ABX9TyNq1Dxt/EZES2daZzHWtIVS",
      "include_colab_link": true
    },
    "kernelspec": {
      "name": "python3",
      "display_name": "Python 3"
    },
    "language_info": {
      "name": "python"
    }
  },
  "cells": [
    {
      "cell_type": "markdown",
      "metadata": {
        "id": "view-in-github",
        "colab_type": "text"
      },
      "source": [
        "<a href=\"https://colab.research.google.com/github/khoaphamj1505/CS112.L21.KHCL/blob/main/SoNguyenMoi.ipynb\" target=\"_parent\"><img src=\"https://colab.research.google.com/assets/colab-badge.svg\" alt=\"Open In Colab\"/></a>"
      ]
    },
    {
      "cell_type": "markdown",
      "metadata": {
        "id": "BidgP6ADmPdW"
      },
      "source": [
        "# Đề bài : Số Nguyên Mới \n",
        "- Link : https://khmt.uit.edu.vn/wecode/cs112.2021/assignment/5/15\n",
        "\n",
        "- Abstraction: Cho số nguyên n có không quá 100 chữ số, tìm số  nguyên m lớn nhất chia hết cho 3 và khác n đúng 1 chữ số.\n",
        "- Pattern Recognition: \n",
        "    - Gọi Max_mod[r] là số lớn nhất chia 3 dư r\n",
        "    - Nếu n chia hết cho 3\n",
        "        - Duyệt từ trái qua phải của số n, nếu có một chữ số x sao cho x != Max_mod[x%3] thì ta sẽ thay x = Max_mod[x%3] (Tức là ta thay x bằng số lớn nhất đồng dư với x)\n",
        "        - Nếu không có chữ số nào thỏa mãn điều kiện đã nêu thì ta    "
      ]
    },
    {
      "cell_type": "code",
      "metadata": {
        "id": "yN9ZKWx8kiSR"
      },
      "source": [
        "def solve(n):\n",
        "\tMax_mod = [9, 7, 8]\n",
        "\n",
        "\tarr = list(n)\n",
        "\tif int(n) % 3 == 0:\n",
        "\t\tflag = 1\n",
        "\t\tfor i in range(len(arr)):\n",
        "\t\t\tx = int(arr[i])\n",
        "\t\t\tif x != Max_mod[x%3]:\n",
        "\t\t\t\tarr[i] = str(Max_mod[x%3])\n",
        "\t\t\t\tflag = 0\n",
        "\t\t\t\tbreak;\n",
        "\n",
        "\t\tif flag:\n",
        "\t\t\tarr[len(n)-1] = str(int(arr[len(n)-1]) - 3)\n",
        "\n",
        "\t\tprint(''.join(arr))\n",
        "\telse:\n",
        "\t\tmod = int(n) % 3\n",
        "\t\tmod1 = 3- mod\n",
        "\t\tflag = 1\n",
        "\t\tfor i in range(len(arr)):\n",
        "\t\t\tx = int(arr[i]) \n",
        "\t\t\tif x < Max_mod[abs(mod1+x%3)%3]:\n",
        "\t\t\t\tarr[i] = str(Max_mod[abs(mod1+x%3)%3])\n",
        "\t\t\t\tflag = 0\n",
        "\t\t\t\tbreak\n",
        "\t\tif flag :\n",
        "\t\t\tarr[-1] = str(int(arr[-1]) - mod)\n",
        "\t\tprint(''.join(arr))\n",
        "\n",
        "if __name__ == '__main__':\n",
        "\tn = input()\n",
        "\tsolve(n)"
      ],
      "execution_count": null,
      "outputs": []
    }
  ]
}