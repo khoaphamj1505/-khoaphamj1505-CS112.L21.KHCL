{
  "nbformat": 4,
  "nbformat_minor": 0,
  "metadata": {
    "colab": {
      "name": "SoNguyenMoi.ipynb",
      "provenance": [],
      "collapsed_sections": [],
      "include_colab_link": true
    },
    "kernelspec": {
      "name": "python3",
      "display_name": "Python 3"
    },
    "language_info": {
      "name": "python"
    }
  },
  "cells": [
    {
      "cell_type": "markdown",
      "metadata": {
        "id": "view-in-github",
        "colab_type": "text"
      },
      "source": [
        "<a href=\"https://colab.research.google.com/github/khoaphamj1505/CS112.L21.KHCL/blob/main/ThucHanh/Assignment3/SoNguyenMoi.ipynb\" target=\"_parent\"><img src=\"https://colab.research.google.com/assets/colab-badge.svg\" alt=\"Open In Colab\"/></a>"
      ]
    },
    {
      "cell_type": "markdown",
      "metadata": {
        "id": "BidgP6ADmPdW"
      },
      "source": [
        "# Đề bài : Số Nguyên Mới \n",
        "- Link : https://khmt.uit.edu.vn/wecode/cs112.2021/assignment/5/15\n",
        "\n",
        "- Abstraction: Cho số nguyên n có không quá 100 chữ số, tìm số  nguyên m lớn nhất chia hết cho 3 và khác n đúng 1 chữ số.\n",
        "    - INPUT: gồm 1 dòng chứa số nguyên n (độ dài n không quá 100 chữ số).\n",
        "    - OUTPUT: một dòng chứa số nguyên thỏa yêu cầu bài toán.\n",
        "- Pattern Recognition: \n",
        "    - Để được số lớn nhất và tổng các chữ số chia hết cho 3. Ta bắt đầu thay đổi chữ số đầu tiên bằng các số lớn nhất có thể thay thế là [9,8,7] \n",
        "    - Nếu không được ta tiếp tục thay đổi chữ số tiếp theo....Cứ thế đến chữ số cuối cùng\n",
        "    - Sau khi đến số cuối cùng vẫn không thay đổi ta sẽ thay đổi chữ số cuối cùng bằng cách trừ đi số dư mod của n ( mod=n%3)\n",
        "- Algorithms Design:\n",
        "    - Gọi Max_mod[r] là số lớn nhất chia 3 dư r\n",
        "    - Nếu n chia hết cho 3\n",
        "        - Duyệt từ trái qua phải của số n, nếu có một chữ số x sao cho x != Max_mod[x%3] thì ta sẽ thay x = Max_mod[x%3] (Tức là ta thay x bằng số lớn nhất đồng dư với x )\n",
        "        - Nếu không có chữ số nào thỏa mãn điều kiện đã nêu thì ta thay chữ số cuối cùng trừ đi 3\n",
        "    - Nếu n không chia hết cho 3\n",
        "        - Duyệt từ trái qua phải của số n, nếu có một chữ số x sao cho x < Max_mod[abs(mod1+x%3)%3] thì ta sẽ thay x = Max_mod[abs(mod1+x%3)%3] ( Tức là ta sẽ thay x bằng số lớn nhất đồng dư với tổng số dư x với 3 và mod1(là hiệu của 3 với số dư n%3) )\n",
        "        - Nếu không có chữ số nào thỏa mãn điều kiện thì ta thay chữ số cuối cùng trừ đi số dư của số n (là n%3) \n",
        "- Độ phức tạp của thuật toán là O(r) với r là độ dài của số nguyên n "
      ]
    },
    {
      "cell_type": "code",
      "metadata": {
        "id": "yN9ZKWx8kiSR"
      },
      "source": [
        "def solve(n):\n",
        "\tMax_mod = [9, 7, 8]\n",
        "\n",
        "\tarr = list(n)\n",
        "\tif int(n) % 3 == 0:\n",
        "\t\tflag = 1\n",
        "\t\tfor i in range(len(arr)):\n",
        "\t\t\tx = int(arr[i])\n",
        "\t\t\tif x != Max_mod[x%3]:\n",
        "\t\t\t\tarr[i] = str(Max_mod[x%3])\n",
        "\t\t\t\tflag = 0\n",
        "\t\t\t\tbreak;\n",
        "\n",
        "\t\tif flag:\n",
        "\t\t\tarr[len(n)-1] = str(int(arr[len(n)-1]) - 3)\n",
        "\n",
        "\t\tprint(''.join(arr))\n",
        "\telse:\n",
        "\t\tmod = int(n) % 3\n",
        "\t\tmod1 = 3- mod\n",
        "\t\tflag = 1\n",
        "\t\tfor i in range(len(arr)):\n",
        "\t\t\tx = int(arr[i]) \n",
        "\t\t\tif x < Max_mod[abs(mod1+x%3)%3]:\n",
        "\t\t\t\tarr[i] = str(Max_mod[abs(mod1+x%3)%3])\n",
        "\t\t\t\tflag = 0\n",
        "\t\t\t\tbreak\n",
        "\t\tif flag :\n",
        "\t\t\tarr[-1] = str(int(arr[-1]) - mod)\n",
        "\t\tprint(''.join(arr))\n",
        "\n",
        "if __name__ == '__main__':\n",
        "\tn = input()\n",
        "\tsolve(n)"
      ],
      "execution_count": null,
      "outputs": []
    }
  ]
}