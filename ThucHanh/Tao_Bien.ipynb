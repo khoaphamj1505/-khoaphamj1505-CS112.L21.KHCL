{
  "nbformat": 4,
  "nbformat_minor": 0,
  "metadata": {
    "colab": {
      "name": "Tao_Bien.ipynb",
      "provenance": [],
      "collapsed_sections": [],
      "authorship_tag": "ABX9TyMLGeZauM/dUrpRDwOAfkeO",
      "include_colab_link": true
    },
    "kernelspec": {
      "name": "python3",
      "display_name": "Python 3"
    },
    "language_info": {
      "name": "python"
    }
  },
  "cells": [
    {
      "cell_type": "markdown",
      "metadata": {
        "id": "view-in-github",
        "colab_type": "text"
      },
      "source": [
        "<a href=\"https://colab.research.google.com/github/khoaphamj1505/CS112.L21.KHCL/blob/main/Tao_Bien.ipynb\" target=\"_parent\"><img src=\"https://colab.research.google.com/assets/colab-badge.svg\" alt=\"Open In Colab\"/></a>"
      ]
    },
    {
      "cell_type": "markdown",
      "metadata": {
        "id": "R1gtERnXq2n3"
      },
      "source": [
        "- Tên đề bài : Tảo biển.\n",
        "- Link: https://khmt.uit.edu.vn/wecode/cs112.2021/assignment/2/3\n",
        "\n",
        "- Abstraction: \n",
        "    - Cho 2 số n, k. Tính F[k] theo công thức :\n",
        "        + F[0] = n\n",
        "        + F[1] = 2*n\n",
        "        + F[i] = 3*F[i-1] - F[i-2] với i > 1\n",
        "    - In ra kết quả F[k] theo modulo 10^9 + 7\n",
        "\n",
        "- Patter Recognition: \n",
        "    - Cách tính Công thức F[i] giống với công thức tính số fibonaci \n",
        "\n",
        "        => Ta dùng phương pháp tính số  Fibonaci để áp dụng cho bài toán này.\n",
        "    -  Vì kết quả bài toán là F[k] theo modulo cuả 10^9+7, nên ta có thể  áp dụng công thức:\n",
        "        \n",
        "                    (a-b) % c = ((a%c) - (b%c))%c\n",
        "\n",
        "- Algorithm Design: \n",
        "\n",
        "    - Sử dụng 1 mảng F để lưu giá trị của F[i].\n",
        "\n",
        "    - Khởi tạo F[0] = n và F[1] = 2*n.\n",
        "\n",
        "    - Lặp i từ 2 đến k \n",
        "        Mỗi lần lặp tính \n",
        "        \n",
        "            F[i] = ((3*F[i-1])%(10^9+7) - (F[i-2])%(10^9+7))%(10^9+7) \n",
        "\n",
        "- Ước lượng độ phức tạp :\n",
        "    O(k) với k nhập từ input."
      ]
    },
    {
      "cell_type": "markdown",
      "metadata": {
        "id": "9U1P-yW7BUZe"
      },
      "source": [
        "# Code: "
      ]
    },
    {
      "cell_type": "code",
      "metadata": {
        "id": "DWzCheMEqWnD"
      },
      "source": [
        "#Người viết : Lê Quang Huy.\n",
        "def read(str='i'):  # Doc Nhieu so tren 1 hang roi ep kieu\n",
        "    if(str == \"float\"):  # Neu tham so truyen vao == 'float' thi se doc cac so va ep kieu float\n",
        "        return map(float, input().split())\n",
        "    return map(int, input().split())  # Neu khong ep kieu int\n",
        "\n",
        "\n",
        "def ReadArr():\n",
        "    return [int(x) for x in input().split()]\n",
        "\n",
        "\n",
        "if __name__ == '__main__':\n",
        "    n, k = read()\n",
        "    F = [0] * (k+1)\n",
        "    F[0] = n\n",
        "    F[1] = 2*n\n",
        "\n",
        "    MOD = 10**9 + 7\n",
        "\n",
        "    for i in range(2, k+1):\n",
        "        F[i] = ((3*F[i-1]) % MOD - (F[i-2]) % MOD) % MOD\n",
        "    print(F[k])"
      ],
      "execution_count": null,
      "outputs": []
    }
  ]
}