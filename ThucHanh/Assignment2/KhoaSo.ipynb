{
  "nbformat": 4,
  "nbformat_minor": 0,
  "metadata": {
    "colab": {
      "name": "KhoaSo.ipynb",
      "provenance": [],
      "collapsed_sections": [],
      "authorship_tag": "ABX9TyNKMHsx+4cDR8euhCc0ZS+c",
      "include_colab_link": true
    },
    "kernelspec": {
      "name": "python3",
      "display_name": "Python 3"
    },
    "language_info": {
      "name": "python"
    }
  },
  "cells": [
    {
      "cell_type": "markdown",
      "metadata": {
        "id": "view-in-github",
        "colab_type": "text"
      },
      "source": [
        "<a href=\"https://colab.research.google.com/github/khoaphamj1505/CS112.L21.KHCL/blob/main/KhoaSo.ipynb\" target=\"_parent\"><img src=\"https://colab.research.google.com/assets/colab-badge.svg\" alt=\"Open In Colab\"/></a>"
      ]
    },
    {
      "cell_type": "markdown",
      "metadata": {
        "id": "K4FHmWGvk8dP"
      },
      "source": [
        "# Đề bài : KhoaSo.\n",
        "- Link : https://khmt.uit.edu.vn/wecode/cs112.2021/assignment/3/9"
      ]
    },
    {
      "cell_type": "markdown",
      "metadata": {
        "id": "XkW4-IbvovXL"
      },
      "source": [
        "- Abstaction: \n",
        "    + Cho một số nguyên dương có độ dài không quá 10^5\n",
        "    + Bỏ bớt một vài chữ số (có thể không cần bỏ) trong số đã cho và sắp xếp các số còn lại để được số lớn nhất chia hết cho 3.\n",
        "    \n",
        "    INPUT :\n",
        "\n",
        "        + 1 Dòng duy nhất chứa số nguyên n (độ dài n không quá 10^5).\n",
        "\n",
        "    OUTPUT:\n",
        "\n",
        "        + 1 Dòng duy nhất chứa số nguyên m thỏa mãn yêu cầu bài toán.\n",
        "\n",
        "- Pattern Recognition:\n",
        "    + Một số chia hết cho 3 nếu tổng các chữ số của nó chia hết cho 3. \n",
        "    + Nếu số đã cho chia hết cho 3 thì không cần bỏ chữ số mà chỉ cần sắp xếp giảm dần các chữ số trong số nguyên đã cho.\n",
        "    + Nếu số đã cho chia 3 có dư\n",
        "        + Nếu số đã cho chia 3 dư 1 thì sẽ tồn tại 1 chữ số chia 3 dư 1 hoặc 2 chữ số có tổng chia 3 dư 1.\n",
        "        + Nếu số đã cho chia 3 dư 2 thì sẽ tồn tại 1 chữ số chia 3 dư 2 hoặc 2 chứ số có tổng chia 3 dư 2.\n",
        "\n",
        "    => Vì để số còn lại sau khi bỏ bớt một vài chữ số phải chia hết cho 3 và lớn nhất, ta sẽ sắp xếp giảm dần các chữ số sau đó tìm và loại bỏ các chữ số  nhỏ nhất có thể làm cho số ban đầu không chia hết cho 3.\n",
        "\n",
        "- Algorithms Design:\n",
        "    + Kiểm tra số ban đầu có chia hết cho 3 hay không. Nếu đã chia hết thì sắp xếp các chữ số của số ban đầu giảm dần rồi in ra.\n",
        "    + Nếu số ban đầu chia 3 dư mod != 0 :\n",
        "        + gọi mod1 là số dư khác 0 và khác mod khi chia cho 3.\n",
        "        + sắp xếp giảm dần các chữ số trong số đã cho.\n",
        "        + Tìm và lưu lại vị trí các chữ số chia 3 dư mod.\n",
        "        + Tìm và lưu lại vị trí các chứ số chia 3 dư mod1.\n",
        "        + Nếu tồn tại vị trí các chữ số chia 3 dư mod thì xóa vị trí có chỉ số nhỏ nhất. Nếu không tồn tại vị trí các chữ số chia 3 dư mod thì xóa 2 vị trí có chỉ số nhỏ nhất trong tập các chữ số chia 3 dư mod1.\n",
        "        + Số sau khi xóa sẽ là số lớn nhất có thể và chia hết cho 3.\n"
      ]
    },
    {
      "cell_type": "code",
      "metadata": {
        "id": "ZjmXqfrTk6dH"
      },
      "source": [
        "from collections import deque\n",
        "\n",
        "\n",
        "def main():\n",
        "    n = input()\n",
        "    mod = int(n) % 3\n",
        "    if mod == 0:\n",
        "        print(\"\".join(sorted(n, reverse=True)))\n",
        "        return\n",
        "\n",
        "    cnt_index = [list(), list(), list()]\n",
        "\n",
        "    check = 0\n",
        "    n = sorted(n, reverse=True)\n",
        "    for i in range(len(n)-2, -1, -1 ):\n",
        "    \tint_val = int(n[i])%3\n",
        "    \tif int_val > 0:\n",
        "    \t\tcnt_index[int_val].append(i)\n",
        "\t    \tif int_val == mod:\n",
        "\t    \t\tcheck = 1\n",
        "\t    \t\tbreak\n",
        "\n",
        "    mod1 = 1 + (mod % 2)\n",
        "\n",
        "    if check > 0:\n",
        "    \tpos = cnt_index[mod][0]\n",
        "    \tn[pos] = ''\n",
        "\n",
        "    else:\n",
        "    \tpos = cnt_index[mod1][0]\n",
        "    \tpos1 = cnt_index[mod1][1]\n",
        "    \tn[pos] = ''\n",
        "    \tn[pos1] = ''\n",
        "\n",
        "    s = ''.join(n)\n",
        "    print(s)\n",
        "\n",
        "if __name__ == '__main__':\n",
        "    main()"
      ],
      "execution_count": null,
      "outputs": []
    }
  ]
}