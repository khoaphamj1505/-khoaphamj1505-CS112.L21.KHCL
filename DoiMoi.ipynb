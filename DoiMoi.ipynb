{
  "nbformat": 4,
  "nbformat_minor": 0,
  "metadata": {
    "colab": {
      "name": "DoiMoi.ipynb",
      "provenance": [],
      "collapsed_sections": [],
      "authorship_tag": "ABX9TyP3LTICFU5CbuNcphh0U1PR",
      "include_colab_link": true
    },
    "kernelspec": {
      "name": "python3",
      "display_name": "Python 3"
    },
    "language_info": {
      "name": "python"
    }
  },
  "cells": [
    {
      "cell_type": "markdown",
      "metadata": {
        "id": "view-in-github",
        "colab_type": "text"
      },
      "source": [
        "<a href=\"https://colab.research.google.com/github/khoaphamj1505/CS112.L21.KHCL/blob/main/DoiMoi.ipynb\" target=\"_parent\"><img src=\"https://colab.research.google.com/assets/colab-badge.svg\" alt=\"Open In Colab\"/></a>"
      ]
    },
    {
      "cell_type": "markdown",
      "metadata": {
        "id": "W351JtblQ3C3"
      },
      "source": [
        "# Đề bài : Đổi mới.\n",
        "- Link: https://khmt.uit.edu.vn/wecode/cs112.2021/assignment/5/8\n",
        "- Abstraction: \n",
        "    - Cho 5 số nguyên a, k, b, m, n (1 ≤ a, b ≤ 10^9, 2 ≤ k, m ≤ 10^18, 1 ≤ n ≤ 10^18).\n",
        "    - Tìm số nguyên d nhỏ nhất sao cho \n",
        "            F(d) = a*d + b*d -(d//k)*a - (d//m)*b >= n\n",
        "        - Ký hiệu (d // k) là phần nguyên khi chia d cho k\n",
        "- Pattern Recognition: \n",
        "    - Nhận thấy giá trị của công thức trên tỉ lệ thuận hệ số d (d càng tăng thì giá trị của hàm số càng tăng) và giá trị của hàm F luôn là giá trị nguyên.\n",
        "    - Để tìm kiếm giá trị d ta có thể sử dụng phương pháp chặt nhị phân trong đoạn [1; 10^18]\n",
        "\n",
        "- Algorithms Design:\n",
        "    - Khởi tạo 2 giá trị l = 1 và r = 10^18 làm 2 giá trị đầu mút của đoạn \n",
        "    - Khởi tạo giá trị ans = 10^18 với ý nghĩa là giá trị nhỏ nhất thỏa mãn yêu cầu bài toán.\n",
        "    - Xây dựng hàm F theo công thức ở phần Abstraction\n",
        "    - Trong khi l <= r ta làm các bước sau:\n",
        "        - Khởi tạo mid = (l+r)//2 \n",
        "        - Nếu F(mid) >= n (có nghĩa là đoạn [l, mid] có giá trị nhỏ nhất thỏa mãn yêu cầu bài toán) \n",
        "            - Cập nhật r = mid-1\n",
        "            - Cập nhật ans = min(ans, mid)\n",
        "        - Ngược lại, Nếu F(mid) < n (có nghĩa là đoạn [l, mid] không tồn tại giá trị thỏa mãn yêu cầu bài toán) \n",
        "            - Cập nhật l = mid+1\n",
        "    - Giá trị nhỏ nhất thỏa mãn bài toán được lưu trong giá trị ans.\n",
        "\n",
        "- Độ phức tạp của thuật toán O(log(r)) với r là độ dài đoạn giá trị chứa nghiệm thỏa mãn yêu cầu bài toán.\n"
      ]
    },
    {
      "cell_type": "code",
      "metadata": {
        "id": "K5oA9nvKQV16"
      },
      "source": [
        "def calc(a, k, b, m, d):\n",
        "\t# Trong khoang tu 1 den d co bao nhieu so chia het cho k??\n",
        "\t# d//k\n",
        "\t# Trong khoang tu 1 den d co bao nhieu so chia het cho m??\n",
        "    # d // m\n",
        "\tcnt = a*d + b*d -(d//k)*a - (d//m)*b \n",
        "\treturn cnt\n",
        "\n",
        "\n",
        "def main():\n",
        "\ta, k, b, m, n = [int(x) for x in input().split()]\n",
        "\tmid = 0\n",
        "\tl = 1 \n",
        "\tr = 10**18\n",
        "\tmid = 0\n",
        "\tans = r \n",
        "\twhile l <= r:\n",
        "\t\tmid = (l + r) // 2\n",
        "\t\tif calc(a, k, b, m, mid) >= n:\n",
        "\t\t\tr = mid-1\n",
        "\t\t\tans = min(ans, mid)\n",
        "\t\telse:\n",
        "\t\t\tl = mid+1\n",
        "\tprint(ans)\n",
        "\n",
        "if __name__ == '__main__':\n",
        "\tmain()"
      ],
      "execution_count": null,
      "outputs": []
    }
  ]
}